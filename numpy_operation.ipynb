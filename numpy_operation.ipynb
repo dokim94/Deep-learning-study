{
  "nbformat": 4,
  "nbformat_minor": 0,
  "metadata": {
    "colab": {
      "name": "numpy-operation.ipynb",
      "provenance": [],
      "authorship_tag": "ABX9TyOahj64PaUtuWmyso/oaQ32",
      "include_colab_link": true
    },
    "kernelspec": {
      "name": "python3",
      "display_name": "Python 3"
    },
    "language_info": {
      "name": "python"
    }
  },
  "cells": [
    {
      "cell_type": "markdown",
      "metadata": {
        "id": "view-in-github",
        "colab_type": "text"
      },
      "source": [
        "<a href=\"https://colab.research.google.com/github/dokim94/Deep-learning-study/blob/main/numpy_operation.ipynb\" target=\"_parent\"><img src=\"https://colab.research.google.com/assets/colab-badge.svg\" alt=\"Open In Colab\"/></a>"
      ]
    },
    {
      "cell_type": "markdown",
      "source": [
        "# **Numpy 연산**\n",
        "1. 연산 (연산자 이용, 함수 이용) : matrix 안에 있는 data끼리 스칼라 곱\n",
        "2. 함수 곱 : matrix끼리 벡터 연산"
      ],
      "metadata": {
        "id": "oBRcmViXglzV"
      }
    },
    {
      "cell_type": "code",
      "source": [
        "import numpy as np"
      ],
      "metadata": {
        "id": "9J8ZAlr2h19O"
      },
      "execution_count": 3,
      "outputs": []
    },
    {
      "cell_type": "code",
      "source": [
        "# 1-1. 연산자를 이용한 연산\n",
        "A = np.array([8, 10, 12])\n",
        "B = np.array([4, 5, 6])\n",
        "\n",
        "print('A + B = '+ str(A + B))\n",
        "print(\"A - B = \" + str(A - B))\n",
        "print(\"A * B = \" + str(A * B))\n",
        "print(\"A / B = \" + str(A / B))"
      ],
      "metadata": {
        "colab": {
          "base_uri": "https://localhost:8080/"
        },
        "id": "KnDfl6jHhPfC",
        "outputId": "d0b04d9e-725f-40f7-e1c3-4591507ea219"
      },
      "execution_count": 4,
      "outputs": [
        {
          "output_type": "stream",
          "name": "stdout",
          "text": [
            "A + B = [12 15 18]\n",
            "A - B = [4 5 6]\n",
            "A * B = [32 50 72]\n",
            "A / B = [2. 2. 2.]\n"
          ]
        }
      ]
    },
    {
      "cell_type": "code",
      "source": [
        "# 1-2. 함수를 이용한 연산\n",
        "A = np.array([8, 10, 12])\n",
        "B = np.array([4, 5, 6])\n",
        "\n",
        "print(\"A + B = \" + str(np.add(A, B)))\n",
        "print(\"A - B = \" + str(np.subtract(A, B)))\n",
        "print(\"A * B = \" + str(np.multiply(A, B)))\n",
        "print(\"A / B = \" + str(np.divide(A, B)))"
      ],
      "metadata": {
        "colab": {
          "base_uri": "https://localhost:8080/"
        },
        "id": "4MXf5hp4hsw0",
        "outputId": "fa2e60d9-f41f-4614-dea0-b3b8d18caa0f"
      },
      "execution_count": 9,
      "outputs": [
        {
          "output_type": "stream",
          "name": "stdout",
          "text": [
            "A + B = [12 15 18]\n",
            "A - B = [4 5 6]\n",
            "A * B = [32 50 72]\n",
            "A / B = [2. 2. 2.]\n"
          ]
        }
      ]
    },
    {
      "cell_type": "code",
      "source": [
        "# 2-1. 행렬의 연산 : vector, matrix 곱을 할 때 사용\n",
        "list1 = [[1, 2], [3, 4]]\n",
        "list2 = [[5, 6], [7, 8]]\n",
        "\n",
        "a = np.array(list1)\n",
        "b = np.array(list2)\n",
        "\n",
        "product = np.dot(a, b)\n",
        "print(product)"
      ],
      "metadata": {
        "colab": {
          "base_uri": "https://localhost:8080/"
        },
        "id": "H7SecF46ierU",
        "outputId": "d92d9133-297f-4e02-8167-0154d1240742"
      },
      "execution_count": 10,
      "outputs": [
        {
          "output_type": "stream",
          "name": "stdout",
          "text": [
            "[[19 22]\n",
            " [43 50]]\n"
          ]
        }
      ]
    },
    {
      "cell_type": "code",
      "source": [
        "# 2-2. 배열간의 연산\n",
        "list = [[1, 2], \n",
        "        [3, 4]]\n",
        "\n",
        "a = np.array(list)\n",
        "\n",
        "\n",
        "# 배열의 요소를 더하는 sum()\n",
        "s1 = np.sum(a)\n",
        "print(\"np.sum(a) = \" + str(s1))\n",
        "\n",
        "s2 = np.sum(a, axis=0)\n",
        "print(\"np.sum(a, axis=0) = \" + str(s2))\n",
        "\n",
        "s3 = np.sum(a, axis=1)\n",
        "print(\"np.sum(a, axis=1) = \" + str(s3))\n",
        "\n",
        "# 배열의 요소를 곱하는 prod()\n",
        "p1 = np.prod(a)\n",
        "print(\"np.prod(a) = \" + str(p1))\n",
        "\n",
        "p2 = np.prod(a, axis=0)\n",
        "print(\"np.prod(a, axis=0) = \" + str(p2))\n",
        "\n",
        "p3 = np.prod(a, axis=1)\n",
        "print(\"np.prod(a, axis=1) = \" + str(p3))"
      ],
      "metadata": {
        "colab": {
          "base_uri": "https://localhost:8080/"
        },
        "id": "N9XQgWlWjJRv",
        "outputId": "e6d9ca50-879f-4f76-dffe-0728ca8455e0"
      },
      "execution_count": 12,
      "outputs": [
        {
          "output_type": "stream",
          "name": "stdout",
          "text": [
            "np.sum(a) = 10\n",
            "np.sum(a, axis=0) = [4 6]\n",
            "np.sum(a, axis=1) = [3 7]\n",
            "np.prod(a) = 24\n",
            "np.prod(a, axis=0) = [3 8]\n",
            "np.prod(a, axis=1) = [ 2 12]\n"
          ]
        }
      ]
    },
    {
      "cell_type": "code",
      "source": [
        ""
      ],
      "metadata": {
        "id": "2hkV5F6akQ8O"
      },
      "execution_count": null,
      "outputs": []
    }
  ]
}