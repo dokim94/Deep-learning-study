{
  "nbformat": 4,
  "nbformat_minor": 0,
  "metadata": {
    "colab": {
      "name": "MNIST_2.ipynb",
      "provenance": [],
      "collapsed_sections": [],
      "include_colab_link": true
    },
    "kernelspec": {
      "name": "python3",
      "display_name": "Python 3"
    },
    "language_info": {
      "name": "python"
    }
  },
  "cells": [
    {
      "cell_type": "markdown",
      "metadata": {
        "id": "view-in-github",
        "colab_type": "text"
      },
      "source": [
        "<a href=\"https://colab.research.google.com/github/dokim94/Deep-learning-study/blob/main/mnist2.ipynb\" target=\"_parent\"><img src=\"https://colab.research.google.com/assets/colab-badge.svg\" alt=\"Open In Colab\"/></a>"
      ]
    },
    {
      "cell_type": "code",
      "execution_count": 4,
      "metadata": {
        "id": "pBOfpEmz1B3i"
      },
      "outputs": [],
      "source": [
        "# import library\n",
        "import tensorflow as tf\n",
        "import numpy as np\n",
        "import matplotlib.pyplot as plt\n",
        "%matplotlib inline\n",
        "tf.random.set_seed(55)\n",
        "import pandas as pd\n",
        "import time"
      ]
    },
    {
      "cell_type": "code",
      "source": [
        "mnist = tf.keras.datasets.mnist\n",
        "(x_train_org, y_train),(x_test_org, y_test) = mnist.load_data()\n",
        "print(x_train_org.shape, x_test_org.shape)\n",
        "print(y_train, y_train.shape)\n",
        "\n",
        "nb_classes = 10\n",
        "Y_one_hot = tf.one_hot(y_train, nb_classes)\n",
        "y_train = tf.transpose(tf.reshape(Y_one_hot, [-1, nb_classes]))\n",
        "y_test = tf.transpose(tf.reshape(tf.one_hot(y_test, nb_classes), [-1, nb_classes]))\n",
        "y_train, y_test = np.asarray(y_train), np.asarray(y_test)"
      ],
      "metadata": {
        "colab": {
          "base_uri": "https://localhost:8080/"
        },
        "id": "3Qtp0iDq3j11",
        "outputId": "beef499a-ebfb-4df6-965e-43ee617d7480"
      },
      "execution_count": 5,
      "outputs": [
        {
          "output_type": "stream",
          "name": "stdout",
          "text": [
            "Downloading data from https://storage.googleapis.com/tensorflow/tf-keras-datasets/mnist.npz\n",
            "11493376/11490434 [==============================] - 0s 0us/step\n",
            "11501568/11490434 [==============================] - 0s 0us/step\n",
            "(60000, 28, 28) (10000, 28, 28)\n",
            "[5 0 4 ... 5 6 8] (60000,)\n"
          ]
        }
      ]
    },
    {
      "cell_type": "code",
      "source": [
        "#input data info\n",
        "m_train  = x_train_org.shape[0]\n",
        "num_px = x_train_org.shape[1]\n",
        "m_test = x_test_org.shape[0]\n",
        "\n",
        "print(\"Number of training examples: \" + str(m_train))\n",
        "print(\"Number of testing examples: \" + str(m_test))\n",
        "print(\"Each image is of size: (\" + str(num_px) + \",\" + str(num_px) + \",3)\")\n",
        "print(\"x_train_orig_shape: \" + str(x_train_org.shape))\n",
        "print(\"y_train_shape: \" + str(y_train.shape))"
      ],
      "metadata": {
        "colab": {
          "base_uri": "https://localhost:8080/"
        },
        "id": "b3Ojz-I14MiP",
        "outputId": "f968a26a-3845-4bfc-e1d4-c004b37b4eda"
      },
      "execution_count": 6,
      "outputs": [
        {
          "output_type": "stream",
          "name": "stdout",
          "text": [
            "Number of training examples: 60000\n",
            "Number of testing examples: 10000\n",
            "Each image is of size: (28,28,3)\n",
            "x_train_orig_shape: (60000, 28, 28)\n",
            "y_train_shape: (10, 60000)\n"
          ]
        }
      ]
    },
    {
      "cell_type": "code",
      "source": [
        "#Reshape the training and test examples\n",
        "x_train_flatten = x_train_org.reshape(x_train_org.shape[0], -1).T\n",
        "x_test_flatten = x_test_org.reshape(x_test_org.shape[0], -1).T\n",
        "\n",
        "x_train, x_test = x_train_flatten / 255.0, x_test_flatten / 255.0\n",
        "\n",
        "print(\"x_train's shape: \" + str(x_train.shape))\n",
        "print(\"x_test's shape: \" + str(x_test.shape))"
      ],
      "metadata": {
        "colab": {
          "base_uri": "https://localhost:8080/"
        },
        "id": "pyJ25EjI8ucC",
        "outputId": "1195fe4e-403d-4e67-ea42-6ad1cc5e6257"
      },
      "execution_count": 7,
      "outputs": [
        {
          "output_type": "stream",
          "name": "stdout",
          "text": [
            "x_train's shape: (784, 60000)\n",
            "x_test's shape: (784, 10000)\n"
          ]
        }
      ]
    },
    {
      "cell_type": "code",
      "source": [
        "n_x = 784\n",
        "n_h = 7\n",
        "n_y = 10\n",
        "layers_dims = (n_x, n_h, n_y)\n",
        "learning_rate = 0.01"
      ],
      "metadata": {
        "id": "XLdsKPy89Va2"
      },
      "execution_count": 8,
      "outputs": []
    },
    {
      "cell_type": "code",
      "source": [
        "def initial_parameter_deep(layer_dims):\n",
        "  tf.random.set_seed(55)\n",
        "  parameters = {}\n",
        "  L = len(layers_dims)\n",
        "\n",
        "  for l in range(1, L):\n",
        "    parameters[\"W\" + str(l)] = np.random.randn(layer_dims[l], layer_dims[l-1]) * np.sqrt(2/layers_dims[l-1])\n",
        "    parameters[\"b\" + str(l)] = np.zeros((layer_dims[l], 1))\n",
        "\n",
        "  return parameters"
      ],
      "metadata": {
        "id": "Kr8EZB1l9xWK"
      },
      "execution_count": 9,
      "outputs": []
    },
    {
      "cell_type": "code",
      "source": [
        "parameters = initial_parameter_deep(layers_dims)\n",
        "#print(\"W1 = \" + str(parameters[\"W1\"]))\n",
        "#print(\"b1 = \" + str(parameters[\"b1\"]))\n",
        "#print(\"W2 = \" + str(parameters[\"W2\"]))\n",
        "#print(\"b2 = \" + str(parameters[\"b2\"]))\n",
        "parameters.keys()"
      ],
      "metadata": {
        "colab": {
          "base_uri": "https://localhost:8080/"
        },
        "id": "Ot5Uy2Qa-zYh",
        "outputId": "71c9802b-ebcd-45c6-a74a-d901e52a2253"
      },
      "execution_count": 10,
      "outputs": [
        {
          "output_type": "execute_result",
          "data": {
            "text/plain": [
              "dict_keys(['W1', 'b1', 'W2', 'b2'])"
            ]
          },
          "metadata": {},
          "execution_count": 10
        }
      ]
    },
    {
      "cell_type": "code",
      "source": [
        "#activation functions\n",
        "def sigmoid(z):\n",
        "  A =  1 / (1 + np.exp(-z))\n",
        "  return A\n",
        "\n",
        "def relu(Z):\n",
        "  A = np.maximum(0, Z)\n",
        "  assert(A.shape == Z.shape)\n",
        "  return A\n",
        "\n",
        "def leakyrelu(Z):\n",
        "  A = np.maximum(0.1*Z, Z)\n",
        "  assert(A.shape == Z.shape)\n",
        "  return A\n",
        "\n",
        "def softmax(Z):\n",
        "  A = np.exp(Z)\n",
        "  A = A / A.sum(axis=0, keepdims=True)\n",
        "  return A\n",
        "\n",
        "def tanh(Z):\n",
        "  A = (np.exp(Z) - np.exp(-Z)) / (np.exp(Z) + np.exp(-Z))\n",
        "  return A\n",
        "\n",
        "def swish(Z):\n",
        "  A = Z * sigmoid(Z)\n",
        "  return A"
      ],
      "metadata": {
        "id": "IMsE1etq-5T5"
      },
      "execution_count": 11,
      "outputs": []
    },
    {
      "cell_type": "code",
      "source": [
        "def linear_forward(A, W, b):\n",
        "  Z = np.dot(W, A) + b\n",
        "  return Z"
      ],
      "metadata": {
        "id": "FIxA4UiSAbRQ"
      },
      "execution_count": 12,
      "outputs": []
    },
    {
      "cell_type": "code",
      "source": [
        "def linear_activation_forward(A_prev, W, b, activation):\n",
        "\n",
        "  if activation == \"sigmoid\":\n",
        "    Z = linear_forward(A_prev, W, b)\n",
        "    A = sigmoid(Z)\n",
        "\n",
        "  elif activation == \"relu\":\n",
        "    Z = linear_forward(A_prev, W, b)\n",
        "    A = relu(Z)\n",
        "  \n",
        "  elif activation == \"leakyrelu\":\n",
        "    Z = linear_forward(A_prev, W, b)\n",
        "    A = leakyrelu(Z)\n",
        "\n",
        "  elif activation == \"softmax\":\n",
        "    Z = linear_forward(A_prev, W, b)\n",
        "    A = softmax(Z)\n",
        "\n",
        "  elif activation == \"tanh\":\n",
        "    Z = linear_forward(A_prev, W, b)\n",
        "    A = tanh(Z)\n",
        "\n",
        "\n",
        "  elif activation == \"swish\":\n",
        "    Z = linear_forward(A_prev, W, b)\n",
        "    A = swish(Z)\n",
        "\n",
        "  cache = (A_prev, W, b, Z)\n",
        "\n",
        "  return A, cache"
      ],
      "metadata": {
        "id": "PTGdj7vMAhj4"
      },
      "execution_count": 13,
      "outputs": []
    },
    {
      "cell_type": "code",
      "source": [
        "def L_model_forward(X, parameters):\n",
        "    caches = []\n",
        "    A = X\n",
        "    L = len(parameters) // 2 \n",
        "    \n",
        "    # Hidden layers 1 to L-1 will be relu\n",
        "    for l in range(1, L):\n",
        "        A_prev = A\n",
        "        A, cache = linear_activation_forward(A_prev, parameters['W'+str(l)], parameters['b'+str(l)], activation = \"relu\")\n",
        "        caches.append(cache)\n",
        "    \n",
        "    #output layer L will be softmax\n",
        "    AL, cache = linear_activation_forward(A, parameters['W'+str(L)], parameters['b'+str(L)], activation = \"softmax\")\n",
        "    caches.append(cache)\n",
        "    \n",
        "    assert(AL.shape == (10, X.shape[1]))\n",
        "    \n",
        "    return AL, caches"
      ],
      "metadata": {
        "id": "Xvvk8XMGBZb-"
      },
      "execution_count": 56,
      "outputs": []
    },
    {
      "cell_type": "code",
      "source": [
        "AL, caches = L_model_forward(x_train, parameters)\n",
        "pd.options.display.float_format = '{:.5f}'.format\n",
        "pd.DataFrame(AL[:, 0:10])"
      ],
      "metadata": {
        "colab": {
          "base_uri": "https://localhost:8080/",
          "height": 363
        },
        "id": "u2OVC-gdCY5u",
        "outputId": "8f9d434f-4528-492b-8e09-6a10d559a190"
      },
      "execution_count": 16,
      "outputs": [
        {
          "output_type": "execute_result",
          "data": {
            "text/html": [
              "\n",
              "  <div id=\"df-bc406676-e826-42bd-8ef8-400f8c9b9ea4\">\n",
              "    <div class=\"colab-df-container\">\n",
              "      <div>\n",
              "<style scoped>\n",
              "    .dataframe tbody tr th:only-of-type {\n",
              "        vertical-align: middle;\n",
              "    }\n",
              "\n",
              "    .dataframe tbody tr th {\n",
              "        vertical-align: top;\n",
              "    }\n",
              "\n",
              "    .dataframe thead th {\n",
              "        text-align: right;\n",
              "    }\n",
              "</style>\n",
              "<table border=\"1\" class=\"dataframe\">\n",
              "  <thead>\n",
              "    <tr style=\"text-align: right;\">\n",
              "      <th></th>\n",
              "      <th>0</th>\n",
              "      <th>1</th>\n",
              "      <th>2</th>\n",
              "      <th>3</th>\n",
              "      <th>4</th>\n",
              "      <th>5</th>\n",
              "      <th>6</th>\n",
              "      <th>7</th>\n",
              "      <th>8</th>\n",
              "      <th>9</th>\n",
              "    </tr>\n",
              "  </thead>\n",
              "  <tbody>\n",
              "    <tr>\n",
              "      <th>0</th>\n",
              "      <td>0.10027</td>\n",
              "      <td>0.07773</td>\n",
              "      <td>0.06280</td>\n",
              "      <td>0.11471</td>\n",
              "      <td>0.09557</td>\n",
              "      <td>0.09973</td>\n",
              "      <td>0.09202</td>\n",
              "      <td>0.09298</td>\n",
              "      <td>0.11441</td>\n",
              "      <td>0.10000</td>\n",
              "    </tr>\n",
              "    <tr>\n",
              "      <th>1</th>\n",
              "      <td>0.12575</td>\n",
              "      <td>0.13437</td>\n",
              "      <td>0.12937</td>\n",
              "      <td>0.12415</td>\n",
              "      <td>0.09025</td>\n",
              "      <td>0.09958</td>\n",
              "      <td>0.08414</td>\n",
              "      <td>0.11712</td>\n",
              "      <td>0.10136</td>\n",
              "      <td>0.10000</td>\n",
              "    </tr>\n",
              "    <tr>\n",
              "      <th>2</th>\n",
              "      <td>0.16988</td>\n",
              "      <td>0.17549</td>\n",
              "      <td>0.10127</td>\n",
              "      <td>0.11830</td>\n",
              "      <td>0.10473</td>\n",
              "      <td>0.10010</td>\n",
              "      <td>0.10715</td>\n",
              "      <td>0.13740</td>\n",
              "      <td>0.10666</td>\n",
              "      <td>0.10000</td>\n",
              "    </tr>\n",
              "    <tr>\n",
              "      <th>3</th>\n",
              "      <td>0.11729</td>\n",
              "      <td>0.13276</td>\n",
              "      <td>0.13407</td>\n",
              "      <td>0.10095</td>\n",
              "      <td>0.10543</td>\n",
              "      <td>0.10075</td>\n",
              "      <td>0.11279</td>\n",
              "      <td>0.11656</td>\n",
              "      <td>0.09684</td>\n",
              "      <td>0.10000</td>\n",
              "    </tr>\n",
              "    <tr>\n",
              "      <th>4</th>\n",
              "      <td>0.05808</td>\n",
              "      <td>0.07441</td>\n",
              "      <td>0.06278</td>\n",
              "      <td>0.07228</td>\n",
              "      <td>0.08082</td>\n",
              "      <td>0.10062</td>\n",
              "      <td>0.07712</td>\n",
              "      <td>0.07778</td>\n",
              "      <td>0.08213</td>\n",
              "      <td>0.10000</td>\n",
              "    </tr>\n",
              "    <tr>\n",
              "      <th>5</th>\n",
              "      <td>0.11953</td>\n",
              "      <td>0.08482</td>\n",
              "      <td>0.07556</td>\n",
              "      <td>0.09992</td>\n",
              "      <td>0.09824</td>\n",
              "      <td>0.09941</td>\n",
              "      <td>0.09368</td>\n",
              "      <td>0.10572</td>\n",
              "      <td>0.11617</td>\n",
              "      <td>0.10000</td>\n",
              "    </tr>\n",
              "    <tr>\n",
              "      <th>6</th>\n",
              "      <td>0.11832</td>\n",
              "      <td>0.11626</td>\n",
              "      <td>0.10652</td>\n",
              "      <td>0.12315</td>\n",
              "      <td>0.10248</td>\n",
              "      <td>0.09976</td>\n",
              "      <td>0.10170</td>\n",
              "      <td>0.11193</td>\n",
              "      <td>0.10356</td>\n",
              "      <td>0.10000</td>\n",
              "    </tr>\n",
              "    <tr>\n",
              "      <th>7</th>\n",
              "      <td>0.08298</td>\n",
              "      <td>0.11172</td>\n",
              "      <td>0.09300</td>\n",
              "      <td>0.07031</td>\n",
              "      <td>0.12260</td>\n",
              "      <td>0.09966</td>\n",
              "      <td>0.12972</td>\n",
              "      <td>0.09931</td>\n",
              "      <td>0.08545</td>\n",
              "      <td>0.10000</td>\n",
              "    </tr>\n",
              "    <tr>\n",
              "      <th>8</th>\n",
              "      <td>0.03979</td>\n",
              "      <td>0.04189</td>\n",
              "      <td>0.04596</td>\n",
              "      <td>0.06386</td>\n",
              "      <td>0.10484</td>\n",
              "      <td>0.09956</td>\n",
              "      <td>0.10362</td>\n",
              "      <td>0.05973</td>\n",
              "      <td>0.08713</td>\n",
              "      <td>0.10000</td>\n",
              "    </tr>\n",
              "    <tr>\n",
              "      <th>9</th>\n",
              "      <td>0.06811</td>\n",
              "      <td>0.05056</td>\n",
              "      <td>0.18867</td>\n",
              "      <td>0.11239</td>\n",
              "      <td>0.09503</td>\n",
              "      <td>0.10083</td>\n",
              "      <td>0.09806</td>\n",
              "      <td>0.08147</td>\n",
              "      <td>0.10629</td>\n",
              "      <td>0.10000</td>\n",
              "    </tr>\n",
              "  </tbody>\n",
              "</table>\n",
              "</div>\n",
              "      <button class=\"colab-df-convert\" onclick=\"convertToInteractive('df-bc406676-e826-42bd-8ef8-400f8c9b9ea4')\"\n",
              "              title=\"Convert this dataframe to an interactive table.\"\n",
              "              style=\"display:none;\">\n",
              "        \n",
              "  <svg xmlns=\"http://www.w3.org/2000/svg\" height=\"24px\"viewBox=\"0 0 24 24\"\n",
              "       width=\"24px\">\n",
              "    <path d=\"M0 0h24v24H0V0z\" fill=\"none\"/>\n",
              "    <path d=\"M18.56 5.44l.94 2.06.94-2.06 2.06-.94-2.06-.94-.94-2.06-.94 2.06-2.06.94zm-11 1L8.5 8.5l.94-2.06 2.06-.94-2.06-.94L8.5 2.5l-.94 2.06-2.06.94zm10 10l.94 2.06.94-2.06 2.06-.94-2.06-.94-.94-2.06-.94 2.06-2.06.94z\"/><path d=\"M17.41 7.96l-1.37-1.37c-.4-.4-.92-.59-1.43-.59-.52 0-1.04.2-1.43.59L10.3 9.45l-7.72 7.72c-.78.78-.78 2.05 0 2.83L4 21.41c.39.39.9.59 1.41.59.51 0 1.02-.2 1.41-.59l7.78-7.78 2.81-2.81c.8-.78.8-2.07 0-2.86zM5.41 20L4 18.59l7.72-7.72 1.47 1.35L5.41 20z\"/>\n",
              "  </svg>\n",
              "      </button>\n",
              "      \n",
              "  <style>\n",
              "    .colab-df-container {\n",
              "      display:flex;\n",
              "      flex-wrap:wrap;\n",
              "      gap: 12px;\n",
              "    }\n",
              "\n",
              "    .colab-df-convert {\n",
              "      background-color: #E8F0FE;\n",
              "      border: none;\n",
              "      border-radius: 50%;\n",
              "      cursor: pointer;\n",
              "      display: none;\n",
              "      fill: #1967D2;\n",
              "      height: 32px;\n",
              "      padding: 0 0 0 0;\n",
              "      width: 32px;\n",
              "    }\n",
              "\n",
              "    .colab-df-convert:hover {\n",
              "      background-color: #E2EBFA;\n",
              "      box-shadow: 0px 1px 2px rgba(60, 64, 67, 0.3), 0px 1px 3px 1px rgba(60, 64, 67, 0.15);\n",
              "      fill: #174EA6;\n",
              "    }\n",
              "\n",
              "    [theme=dark] .colab-df-convert {\n",
              "      background-color: #3B4455;\n",
              "      fill: #D2E3FC;\n",
              "    }\n",
              "\n",
              "    [theme=dark] .colab-df-convert:hover {\n",
              "      background-color: #434B5C;\n",
              "      box-shadow: 0px 1px 3px 1px rgba(0, 0, 0, 0.15);\n",
              "      filter: drop-shadow(0px 1px 2px rgba(0, 0, 0, 0.3));\n",
              "      fill: #FFFFFF;\n",
              "    }\n",
              "  </style>\n",
              "\n",
              "      <script>\n",
              "        const buttonEl =\n",
              "          document.querySelector('#df-bc406676-e826-42bd-8ef8-400f8c9b9ea4 button.colab-df-convert');\n",
              "        buttonEl.style.display =\n",
              "          google.colab.kernel.accessAllowed ? 'block' : 'none';\n",
              "\n",
              "        async function convertToInteractive(key) {\n",
              "          const element = document.querySelector('#df-bc406676-e826-42bd-8ef8-400f8c9b9ea4');\n",
              "          const dataTable =\n",
              "            await google.colab.kernel.invokeFunction('convertToInteractive',\n",
              "                                                     [key], {});\n",
              "          if (!dataTable) return;\n",
              "\n",
              "          const docLinkHtml = 'Like what you see? Visit the ' +\n",
              "            '<a target=\"_blank\" href=https://colab.research.google.com/notebooks/data_table.ipynb>data table notebook</a>'\n",
              "            + ' to learn more about interactive tables.';\n",
              "          element.innerHTML = '';\n",
              "          dataTable['output_type'] = 'display_data';\n",
              "          await google.colab.output.renderOutput(dataTable, element);\n",
              "          const docLink = document.createElement('div');\n",
              "          docLink.innerHTML = docLinkHtml;\n",
              "          element.appendChild(docLink);\n",
              "        }\n",
              "      </script>\n",
              "    </div>\n",
              "  </div>\n",
              "  "
            ],
            "text/plain": [
              "        0       1       2       3  ...       6       7       8       9\n",
              "0 0.10027 0.07773 0.06280 0.11471  ... 0.09202 0.09298 0.11441 0.10000\n",
              "1 0.12575 0.13437 0.12937 0.12415  ... 0.08414 0.11712 0.10136 0.10000\n",
              "2 0.16988 0.17549 0.10127 0.11830  ... 0.10715 0.13740 0.10666 0.10000\n",
              "3 0.11729 0.13276 0.13407 0.10095  ... 0.11279 0.11656 0.09684 0.10000\n",
              "4 0.05808 0.07441 0.06278 0.07228  ... 0.07712 0.07778 0.08213 0.10000\n",
              "5 0.11953 0.08482 0.07556 0.09992  ... 0.09368 0.10572 0.11617 0.10000\n",
              "6 0.11832 0.11626 0.10652 0.12315  ... 0.10170 0.11193 0.10356 0.10000\n",
              "7 0.08298 0.11172 0.09300 0.07031  ... 0.12972 0.09931 0.08545 0.10000\n",
              "8 0.03979 0.04189 0.04596 0.06386  ... 0.10362 0.05973 0.08713 0.10000\n",
              "9 0.06811 0.05056 0.18867 0.11239  ... 0.09806 0.08147 0.10629 0.10000\n",
              "\n",
              "[10 rows x 10 columns]"
            ]
          },
          "metadata": {},
          "execution_count": 16
        }
      ]
    },
    {
      "cell_type": "code",
      "source": [
        "def compute_cost(AL, Y):\n",
        "  m = Y.shape[1]\n",
        "\n",
        "  cost = -1/m * np.sum(np.multiply(Y, np.log(AL)))\n",
        "  cost = np.squeeze(cost)\n",
        "  assert(cost.shape == ())\n",
        "\n",
        "  return cost"
      ],
      "metadata": {
        "id": "a3DF-u8nC7xw"
      },
      "execution_count": 17,
      "outputs": []
    },
    {
      "cell_type": "code",
      "source": [
        "compute_cost(AL, y_train)"
      ],
      "metadata": {
        "colab": {
          "base_uri": "https://localhost:8080/"
        },
        "id": "R35pkRiG7lw8",
        "outputId": "165232e0-1c29-453a-bdbe-ead922e560c0"
      },
      "execution_count": 18,
      "outputs": [
        {
          "output_type": "execute_result",
          "data": {
            "text/plain": [
              "2.310556149361134"
            ]
          },
          "metadata": {},
          "execution_count": 18
        }
      ]
    },
    {
      "cell_type": "code",
      "source": [
        "def linear_backward(dZ, A_prev, W, b):\n",
        "  m = A_prev.shape[1]\n",
        "\n",
        "  dW = 1/m * np.dot(dZ, A_prev.T)\n",
        "  db = 1/m * np.sum(dZ, axis=1, keepdims=True)\n",
        "  dA_prev = np.dot(W.T, dZ)\n",
        "\n",
        "  assert(dA_prev.shape == A_prev.shape)\n",
        "  assert(dW.shape == W.shape)\n",
        "  assert(db.shape == b.shape)\n",
        "\n",
        "  return dA_prev, dW, db"
      ],
      "metadata": {
        "id": "ae5imwqK8kdp"
      },
      "execution_count": 27,
      "outputs": []
    },
    {
      "cell_type": "code",
      "source": [
        "def relu_backward(dA, cache):\n",
        "  A_prev, W, b, Z = cache\n",
        "\n",
        "  dZ = np.array(dA, copy=True)\n",
        "  dZ[Z <= 0] = 0\n",
        "  assert (dZ.shape == Z.shape)\n",
        "\n",
        "  dA_prev, dW, db = linear_backward(dZ, A_prev, W, b)\n",
        "  return dA_prev, dW, db\n",
        "\n",
        "\n",
        "def softmax_backward(AL, Y, cache):\n",
        "  A_prev, W, b, Z = cache\n",
        "  dZ = AL - Y\n",
        "\n",
        "  dA_prev, dW, db = linear_backward(dZ, A_prev, W, b)\n",
        "  return dA_prev, dW, db"
      ],
      "metadata": {
        "id": "uf9V_SV99DCk"
      },
      "execution_count": 28,
      "outputs": []
    },
    {
      "cell_type": "code",
      "source": [
        "def L_model_backward(AL, Y, caches):\n",
        "  grads = {}\n",
        "  L = len(caches)\n",
        "  m = AL.shape[1]\n",
        "\n",
        "  current_cache = caches[L-1]\n",
        "  grads[\"dA\" + str(L-1)], grads[\"dW\" + str(L)], grads[\"db\" + str(L)] = softmax_backward(AL, Y, current_cache)\n",
        "\n",
        "  for l in reversed(range(L-1)):\n",
        "    current_cache = caches[l]\n",
        "    dA_prev_temp, dW_temp, db_temp = relu_backward(grads[\"dA\" + str(l+1)], current_cache)\n",
        "    grads[\"dA\" + str(l)] = dA_prev_temp\n",
        "    grads[\"dW\" + str(l+1)] = dW_temp\n",
        "    grads[\"db\" + str(l+1)] = db_temp\n",
        "  \n",
        "  return grads"
      ],
      "metadata": {
        "id": "RktGBJ4_9rsO"
      },
      "execution_count": 42,
      "outputs": []
    },
    {
      "cell_type": "code",
      "source": [
        "grads = L_model_backward(AL, y_train, caches)\n",
        "grads.keys()"
      ],
      "metadata": {
        "colab": {
          "base_uri": "https://localhost:8080/"
        },
        "id": "YFW2XkBv-92X",
        "outputId": "9dc0c615-817d-4dcc-903a-d540cb56d66d"
      },
      "execution_count": 43,
      "outputs": [
        {
          "output_type": "execute_result",
          "data": {
            "text/plain": [
              "dict_keys(['dA1', 'dW2', 'db2', 'dA0', 'dW1', 'db1'])"
            ]
          },
          "metadata": {},
          "execution_count": 43
        }
      ]
    },
    {
      "cell_type": "code",
      "source": [
        "def update_parameters(parameters, grads, learning_rate):\n",
        "  L = len(parameters) // 2\n",
        "  for l in range(L):\n",
        "    parameters[\"W\" + str(l+1)] = parameters[\"W\" + str(l+1)] - learning_rate * grads[\"dW\" + str(l+1)]\n",
        "    parameters[\"b\" + str(l+1)] = parameters[\"b\" + str(l+1)] - learning_rate * grads[\"db\" + str(l+1)]\n",
        "\n",
        "  return parameters"
      ],
      "metadata": {
        "id": "FnTUk-PA_Di9"
      },
      "execution_count": 44,
      "outputs": []
    },
    {
      "cell_type": "code",
      "source": [
        "parameters = update_parameters(parameters, grads, learning_rate=0.0075)\n",
        "AL, caches = L_model_forward(x_train, parameters)\n",
        "pd.DataFrame(AL[:, 0:5])"
      ],
      "metadata": {
        "colab": {
          "base_uri": "https://localhost:8080/",
          "height": 363
        },
        "id": "IGpdHLWiAeFJ",
        "outputId": "3d1786e3-b68e-4323-c44e-1b956c944cdf"
      },
      "execution_count": 45,
      "outputs": [
        {
          "output_type": "execute_result",
          "data": {
            "text/html": [
              "\n",
              "  <div id=\"df-55e799a1-6baf-40d1-ad21-a171f5ccb774\">\n",
              "    <div class=\"colab-df-container\">\n",
              "      <div>\n",
              "<style scoped>\n",
              "    .dataframe tbody tr th:only-of-type {\n",
              "        vertical-align: middle;\n",
              "    }\n",
              "\n",
              "    .dataframe tbody tr th {\n",
              "        vertical-align: top;\n",
              "    }\n",
              "\n",
              "    .dataframe thead th {\n",
              "        text-align: right;\n",
              "    }\n",
              "</style>\n",
              "<table border=\"1\" class=\"dataframe\">\n",
              "  <thead>\n",
              "    <tr style=\"text-align: right;\">\n",
              "      <th></th>\n",
              "      <th>0</th>\n",
              "      <th>1</th>\n",
              "      <th>2</th>\n",
              "      <th>3</th>\n",
              "      <th>4</th>\n",
              "    </tr>\n",
              "  </thead>\n",
              "  <tbody>\n",
              "    <tr>\n",
              "      <th>0</th>\n",
              "      <td>0.09952</td>\n",
              "      <td>0.07896</td>\n",
              "      <td>0.06289</td>\n",
              "      <td>0.11393</td>\n",
              "      <td>0.09583</td>\n",
              "    </tr>\n",
              "    <tr>\n",
              "      <th>1</th>\n",
              "      <td>0.12294</td>\n",
              "      <td>0.13149</td>\n",
              "      <td>0.12963</td>\n",
              "      <td>0.12215</td>\n",
              "      <td>0.09077</td>\n",
              "    </tr>\n",
              "    <tr>\n",
              "      <th>2</th>\n",
              "      <td>0.16430</td>\n",
              "      <td>0.16990</td>\n",
              "      <td>0.10115</td>\n",
              "      <td>0.11522</td>\n",
              "      <td>0.10449</td>\n",
              "    </tr>\n",
              "    <tr>\n",
              "      <th>3</th>\n",
              "      <td>0.11667</td>\n",
              "      <td>0.13107</td>\n",
              "      <td>0.13386</td>\n",
              "      <td>0.09983</td>\n",
              "      <td>0.10516</td>\n",
              "    </tr>\n",
              "    <tr>\n",
              "      <th>4</th>\n",
              "      <td>0.06025</td>\n",
              "      <td>0.07603</td>\n",
              "      <td>0.06311</td>\n",
              "      <td>0.07388</td>\n",
              "      <td>0.08177</td>\n",
              "    </tr>\n",
              "    <tr>\n",
              "      <th>5</th>\n",
              "      <td>0.12051</td>\n",
              "      <td>0.08710</td>\n",
              "      <td>0.07561</td>\n",
              "      <td>0.10039</td>\n",
              "      <td>0.09836</td>\n",
              "    </tr>\n",
              "    <tr>\n",
              "      <th>6</th>\n",
              "      <td>0.11740</td>\n",
              "      <td>0.11554</td>\n",
              "      <td>0.10645</td>\n",
              "      <td>0.12198</td>\n",
              "      <td>0.10237</td>\n",
              "    </tr>\n",
              "    <tr>\n",
              "      <th>7</th>\n",
              "      <td>0.08508</td>\n",
              "      <td>0.11200</td>\n",
              "      <td>0.09259</td>\n",
              "      <td>0.07180</td>\n",
              "      <td>0.12132</td>\n",
              "    </tr>\n",
              "    <tr>\n",
              "      <th>8</th>\n",
              "      <td>0.04240</td>\n",
              "      <td>0.04449</td>\n",
              "      <td>0.04596</td>\n",
              "      <td>0.06697</td>\n",
              "      <td>0.10462</td>\n",
              "    </tr>\n",
              "    <tr>\n",
              "      <th>9</th>\n",
              "      <td>0.07095</td>\n",
              "      <td>0.05341</td>\n",
              "      <td>0.18875</td>\n",
              "      <td>0.11387</td>\n",
              "      <td>0.09531</td>\n",
              "    </tr>\n",
              "  </tbody>\n",
              "</table>\n",
              "</div>\n",
              "      <button class=\"colab-df-convert\" onclick=\"convertToInteractive('df-55e799a1-6baf-40d1-ad21-a171f5ccb774')\"\n",
              "              title=\"Convert this dataframe to an interactive table.\"\n",
              "              style=\"display:none;\">\n",
              "        \n",
              "  <svg xmlns=\"http://www.w3.org/2000/svg\" height=\"24px\"viewBox=\"0 0 24 24\"\n",
              "       width=\"24px\">\n",
              "    <path d=\"M0 0h24v24H0V0z\" fill=\"none\"/>\n",
              "    <path d=\"M18.56 5.44l.94 2.06.94-2.06 2.06-.94-2.06-.94-.94-2.06-.94 2.06-2.06.94zm-11 1L8.5 8.5l.94-2.06 2.06-.94-2.06-.94L8.5 2.5l-.94 2.06-2.06.94zm10 10l.94 2.06.94-2.06 2.06-.94-2.06-.94-.94-2.06-.94 2.06-2.06.94z\"/><path d=\"M17.41 7.96l-1.37-1.37c-.4-.4-.92-.59-1.43-.59-.52 0-1.04.2-1.43.59L10.3 9.45l-7.72 7.72c-.78.78-.78 2.05 0 2.83L4 21.41c.39.39.9.59 1.41.59.51 0 1.02-.2 1.41-.59l7.78-7.78 2.81-2.81c.8-.78.8-2.07 0-2.86zM5.41 20L4 18.59l7.72-7.72 1.47 1.35L5.41 20z\"/>\n",
              "  </svg>\n",
              "      </button>\n",
              "      \n",
              "  <style>\n",
              "    .colab-df-container {\n",
              "      display:flex;\n",
              "      flex-wrap:wrap;\n",
              "      gap: 12px;\n",
              "    }\n",
              "\n",
              "    .colab-df-convert {\n",
              "      background-color: #E8F0FE;\n",
              "      border: none;\n",
              "      border-radius: 50%;\n",
              "      cursor: pointer;\n",
              "      display: none;\n",
              "      fill: #1967D2;\n",
              "      height: 32px;\n",
              "      padding: 0 0 0 0;\n",
              "      width: 32px;\n",
              "    }\n",
              "\n",
              "    .colab-df-convert:hover {\n",
              "      background-color: #E2EBFA;\n",
              "      box-shadow: 0px 1px 2px rgba(60, 64, 67, 0.3), 0px 1px 3px 1px rgba(60, 64, 67, 0.15);\n",
              "      fill: #174EA6;\n",
              "    }\n",
              "\n",
              "    [theme=dark] .colab-df-convert {\n",
              "      background-color: #3B4455;\n",
              "      fill: #D2E3FC;\n",
              "    }\n",
              "\n",
              "    [theme=dark] .colab-df-convert:hover {\n",
              "      background-color: #434B5C;\n",
              "      box-shadow: 0px 1px 3px 1px rgba(0, 0, 0, 0.15);\n",
              "      filter: drop-shadow(0px 1px 2px rgba(0, 0, 0, 0.3));\n",
              "      fill: #FFFFFF;\n",
              "    }\n",
              "  </style>\n",
              "\n",
              "      <script>\n",
              "        const buttonEl =\n",
              "          document.querySelector('#df-55e799a1-6baf-40d1-ad21-a171f5ccb774 button.colab-df-convert');\n",
              "        buttonEl.style.display =\n",
              "          google.colab.kernel.accessAllowed ? 'block' : 'none';\n",
              "\n",
              "        async function convertToInteractive(key) {\n",
              "          const element = document.querySelector('#df-55e799a1-6baf-40d1-ad21-a171f5ccb774');\n",
              "          const dataTable =\n",
              "            await google.colab.kernel.invokeFunction('convertToInteractive',\n",
              "                                                     [key], {});\n",
              "          if (!dataTable) return;\n",
              "\n",
              "          const docLinkHtml = 'Like what you see? Visit the ' +\n",
              "            '<a target=\"_blank\" href=https://colab.research.google.com/notebooks/data_table.ipynb>data table notebook</a>'\n",
              "            + ' to learn more about interactive tables.';\n",
              "          element.innerHTML = '';\n",
              "          dataTable['output_type'] = 'display_data';\n",
              "          await google.colab.output.renderOutput(dataTable, element);\n",
              "          const docLink = document.createElement('div');\n",
              "          docLink.innerHTML = docLinkHtml;\n",
              "          element.appendChild(docLink);\n",
              "        }\n",
              "      </script>\n",
              "    </div>\n",
              "  </div>\n",
              "  "
            ],
            "text/plain": [
              "        0       1       2       3       4\n",
              "0 0.09952 0.07896 0.06289 0.11393 0.09583\n",
              "1 0.12294 0.13149 0.12963 0.12215 0.09077\n",
              "2 0.16430 0.16990 0.10115 0.11522 0.10449\n",
              "3 0.11667 0.13107 0.13386 0.09983 0.10516\n",
              "4 0.06025 0.07603 0.06311 0.07388 0.08177\n",
              "5 0.12051 0.08710 0.07561 0.10039 0.09836\n",
              "6 0.11740 0.11554 0.10645 0.12198 0.10237\n",
              "7 0.08508 0.11200 0.09259 0.07180 0.12132\n",
              "8 0.04240 0.04449 0.04596 0.06697 0.10462\n",
              "9 0.07095 0.05341 0.18875 0.11387 0.09531"
            ]
          },
          "metadata": {},
          "execution_count": 45
        }
      ]
    },
    {
      "cell_type": "code",
      "source": [
        "def L_layer_model(X, Y, layers_dims, learning_rate = 0.0075, num_iterations = 3000, print_cost=True):\n",
        "  np.random.seed(55)\n",
        "  costs = []\n",
        "\n",
        "  #1. Initialize parameters\n",
        "  parameters = initial_parameter_deep(layers_dims)\n",
        "\n",
        "  for i in range(0, num_iterations):\n",
        "    \n",
        "    #2. Forward Propagation\n",
        "    AL, caches = L_model_forward(X, parameters)\n",
        "\n",
        "    #3. Compute Cost\n",
        "    cost = compute_cost(AL, Y)\n",
        "\n",
        "    #4. Backward Propagation\n",
        "    grads = L_model_backward(AL, Y, caches)\n",
        "\n",
        "    #5. Update Parameters\n",
        "    parameters = update_parameters(parameters, grads, learning_rate)\n",
        "\n",
        "    # Print the cost every 100 training examples\n",
        "    if print_cost and i % 100 == 0:\n",
        "      print(\"Cost after iteration %i: %f\" %(i, cost))\n",
        "    if print_cost and i % 10 == 0:\n",
        "      costs.append(cost)\n",
        "\n",
        "  \n",
        "  # Plot the Cost\n",
        "  plt.plot(np.squeeze(costs))\n",
        "  plt.ylabel('cost')\n",
        "  plt.xlabel('iterations (per tens)')\n",
        "  plt.title(\"Learning rate =\" + str(learning_rate))\n",
        "  plt.show\n",
        "\n",
        "  return parameters"
      ],
      "metadata": {
        "id": "4znSuoP_At27"
      },
      "execution_count": 47,
      "outputs": []
    },
    {
      "cell_type": "code",
      "source": [
        "def predict(X, parameters):\n",
        "  # Foward Propagation\n",
        "  probabilities, caches = L_model_forward(X, parameters)\n",
        "\n",
        "  # Calculate Predictions (the highest probability for a given example is coded as 1, otherwise 0)\n",
        "  predictions = (probabilities == np.amax(probabilities, axis=0, keepdims=True))\n",
        "  predictions = predictions.astype(float)\n",
        "\n",
        "  return predictions, probabilities\n",
        "\n",
        "def evaluate_prediction(predictions, Y):\n",
        "  m = Y.shape[1]\n",
        "  predictions_class = predictions.argmax(axis=0).reshape(1,m)\n",
        "  Y_class = Y.argmax(axis=0).reshape(1,m)\n",
        "\n",
        "  return np.sum((predictions_class == Y_class)/m)"
      ],
      "metadata": {
        "id": "1gqbaUNCDQBa"
      },
      "execution_count": 48,
      "outputs": []
    },
    {
      "cell_type": "code",
      "source": [
        "layers_dims = [784, 5, 10]\n",
        "parameters = L_layer_model(x_train, y_train, layers_dims, learning_rate = 0.05, num_iterations = 500, print_cost=True)\n",
        "pred_train, probs_train = predict(x_train, parameters)\n",
        "print(\"Train set error is:\" + str(evaluate_prediction(pred_train, y_train)))\n",
        "pred_test, probs_test = predict(x_test, parameters)\n",
        "print(\"Test set error is:\" + str(evaluate_prediction(pred_test, y_test)))"
      ],
      "metadata": {
        "colab": {
          "base_uri": "https://localhost:8080/",
          "height": 424
        },
        "id": "AYUfh-JlEjWG",
        "outputId": "05f62a02-9f58-4a88-fe94-05d960020bde"
      },
      "execution_count": 51,
      "outputs": [
        {
          "output_type": "stream",
          "name": "stdout",
          "text": [
            "Cost after iteration 0: 2.420498\n",
            "Cost after iteration 100: 1.800165\n",
            "Cost after iteration 200: 1.468263\n",
            "Cost after iteration 300: 1.224530\n",
            "Cost after iteration 400: 1.030690\n",
            "Train set error is:0.7381000000000002\n",
            "Test set error is:0.7371000000000003\n"
          ]
        },
        {
          "output_type": "display_data",
          "data": {
            "image/png": "[encoded data removed]",
            "text/plain": [
              "<Figure size 432x288 with 1 Axes>"
            ]
          },
          "metadata": {
            "needs_background": "light"
          }
        }
      ]
    },
    {
      "cell_type": "code",
      "source": [
        "layers_dims = [784, 5, 10]\n",
        "parameters = L_layer_model(x_train, y_train, layers_dims, learning_rate = 0.01, num_iterations = 500, print_cost=True)\n",
        "pred_train, probs_train = predict(x_train, parameters)\n",
        "print(\"Train set error is:\" + str(evaluate_prediction(pred_train, y_train)))\n",
        "pred_test, probs_test = predict(x_test, parameters)\n",
        "print(\"Test set error is:\" + str(evaluate_prediction(pred_test, y_test)))"
      ],
      "metadata": {
        "colab": {
          "base_uri": "https://localhost:8080/",
          "height": 424
        },
        "id": "93vctGOJFL04",
        "outputId": "39e23f4c-d280-4331-824d-a21e5595eaed"
      },
      "execution_count": 52,
      "outputs": [
        {
          "output_type": "stream",
          "name": "stdout",
          "text": [
            "Cost after iteration 0: 2.420498\n",
            "Cost after iteration 100: 2.088695\n",
            "Cost after iteration 200: 2.007614\n",
            "Cost after iteration 300: 1.936378\n",
            "Cost after iteration 400: 1.868496\n",
            "Train set error is:0.39860000000000007\n",
            "Test set error is:0.3941\n"
          ]
        },
        {
          "output_type": "display_data",
          "data": {
            "image/png": "[encoded data removed]",
            "text/plain": [
              "<Figure size 432x288 with 1 Axes>"
            ]
          },
          "metadata": {
            "needs_background": "light"
          }
        }
      ]
    },
    {
      "cell_type": "code",
      "source": [
        "layers_dims = [784, 5, 10]\n",
        "parameters = L_layer_model(x_train, y_train, layers_dims, learning_rate = 0.05, num_iterations = 1000, print_cost=True)\n",
        "pred_train, probs_train = predict(x_train, parameters)\n",
        "print(\"Train set error is:\" + str(evaluate_prediction(pred_train, y_train)))\n",
        "pred_test, probs_test = predict(x_test, parameters)\n",
        "print(\"Test set error is:\" + str(evaluate_prediction(pred_test, y_test)))"
      ],
      "metadata": {
        "colab": {
          "base_uri": "https://localhost:8080/",
          "height": 515
        },
        "id": "HbK7kUQ0GrXg",
        "outputId": "80ed8c18-da67-420f-e59e-e533d3c5c214"
      },
      "execution_count": 58,
      "outputs": [
        {
          "output_type": "stream",
          "name": "stdout",
          "text": [
            "Cost after iteration 0: 2.420498\n",
            "Cost after iteration 100: 1.800165\n",
            "Cost after iteration 200: 1.468263\n",
            "Cost after iteration 300: 1.224530\n",
            "Cost after iteration 400: 1.030690\n",
            "Cost after iteration 500: 0.892304\n",
            "Cost after iteration 600: 0.799244\n",
            "Cost after iteration 700: 0.734259\n",
            "Cost after iteration 800: 0.681829\n",
            "Cost after iteration 900: 0.634714\n",
            "Train set error is:0.8295333333333335\n",
            "Test set error is:0.8343000000000003\n"
          ]
        },
        {
          "output_type": "display_data",
          "data": {
            "image/png": "[encoded data removed]",
            "text/plain": [
              "<Figure size 432x288 with 1 Axes>"
            ]
          },
          "metadata": {
            "needs_background": "light"
          }
        }
      ]
    },
    {
      "cell_type": "code",
      "source": [
        "layers_dims = [784, 5, 10]\n",
        "parameters = L_layer_model(x_train, y_train, layers_dims, learning_rate = 0.01, num_iterations = 2000, print_cost=True)\n",
        "pred_train, probs_train = predict(x_train, parameters)\n",
        "print(\"Train set error is:\" + str(evaluate_prediction(pred_train, y_train)))\n",
        "pred_test, probs_test = predict(x_test, parameters)\n",
        "print(\"Test set error is:\" + str(evaluate_prediction(pred_test, y_test)))"
      ],
      "metadata": {
        "colab": {
          "base_uri": "https://localhost:8080/",
          "height": 699
        },
        "id": "qfvRCsfpIxOf",
        "outputId": "2d14c078-bd56-4454-ce8f-aaf7b7786cd7"
      },
      "execution_count": 59,
      "outputs": [
        {
          "output_type": "stream",
          "name": "stdout",
          "text": [
            "Cost after iteration 0: 2.420498\n",
            "Cost after iteration 100: 2.088695\n",
            "Cost after iteration 200: 2.007614\n",
            "Cost after iteration 300: 1.936378\n",
            "Cost after iteration 400: 1.868496\n",
            "Cost after iteration 500: 1.798168\n",
            "Cost after iteration 600: 1.725231\n",
            "Cost after iteration 700: 1.652578\n",
            "Cost after iteration 800: 1.583896\n",
            "Cost after iteration 900: 1.521517\n",
            "Cost after iteration 1000: 1.465750\n",
            "Cost after iteration 1100: 1.414765\n",
            "Cost after iteration 1200: 1.365674\n",
            "Cost after iteration 1300: 1.316473\n",
            "Cost after iteration 1400: 1.266964\n",
            "Cost after iteration 1500: 1.219003\n",
            "Cost after iteration 1600: 1.174212\n",
            "Cost after iteration 1700: 1.132889\n",
            "Cost after iteration 1800: 1.094701\n",
            "Cost after iteration 1900: 1.059095\n",
            "Train set error is:0.6983166666666668\n",
            "Test set error is:0.7009000000000001\n"
          ]
        },
        {
          "output_type": "display_data",
          "data": {
            "image/png": "[encoded data removed]",
            "text/plain": [
              "<Figure size 432x288 with 1 Axes>"
            ]
          },
          "metadata": {
            "needs_background": "light"
          }
        }
      ]
    },
    {
      "cell_type": "code",
      "source": [
        ""
      ],
      "metadata": {
        "id": "1JrB3LKIYtNe"
      },
      "execution_count": null,
      "outputs": []
    }
  ]
}